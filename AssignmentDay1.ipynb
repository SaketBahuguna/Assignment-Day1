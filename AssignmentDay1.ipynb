{
  "nbformat": 4,
  "nbformat_minor": 0,
  "metadata": {
    "colab": {
      "name": "AssignmentDay1.ipynb",
      "provenance": [],
      "collapsed_sections": []
    },
    "kernelspec": {
      "name": "python3",
      "display_name": "Python 3"
    },
    "language_info": {
      "name": "python"
    }
  },
  "cells": [
    {
      "cell_type": "code",
      "metadata": {
        "colab": {
          "base_uri": "https://localhost:8080/"
        },
        "id": "v9fAACiwoqhK",
        "outputId": "848098b0-7655-4de1-d32a-fed647ca9200"
      },
      "source": [
        "x = int(input(\"Enter the value: \"))\n",
        "y = int(input(\"Enter the value: \"))\n",
        "z=x**y\n",
        "print(z)\n"
      ],
      "execution_count": 1,
      "outputs": [
        {
          "output_type": "stream",
          "text": [
            "Enter the valvue: 2\n",
            "Enter the valvue: 3\n",
            "8\n"
          ],
          "name": "stdout"
        }
      ]
    }
  ]
}